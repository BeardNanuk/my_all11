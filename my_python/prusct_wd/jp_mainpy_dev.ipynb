{
 "cells": [
  {
   "cell_type": "code",
   "execution_count": null,
   "metadata": {},
   "outputs": [],
   "source": [
    "import numpy as np\n",
    "import matplotlib as plt"
   ]
  },
  {
   "cell_type": "code",
   "execution_count": null,
   "metadata": {},
   "outputs": [],
   "source": [
    "print('this is a shell script containing python command')\n",
    "\n",
    "execfile('paths.py')\n",
    "\n",
    "import prusct.io.read_data as rd\n",
    "\n",
    "data_syn=rd.readsu(idir=synpath)\n",
    "print('shape of data_syn:',(data_syn).shape)\n",
    "data_obs=rd.readmat(idir=obspath)\n",
    "print('shape of data_obs:',(data_obs).shape)"
   ]
  },
  {
   "cell_type": "code",
   "execution_count": null,
   "metadata": {},
   "outputs": [],
   "source": [
    "from my_sfs.ze_plot_section import plot_section_steps\n",
    "#plot_section_steps(data=data_obs, y_star = 1500, y_end = 2700) "
   ]
  },
  {
   "cell_type": "code",
   "execution_count": null,
   "metadata": {},
   "outputs": [],
   "source": [
    "plot_section_steps(data=data_syn, y_star = 6000, y_end = 14000, title='data_syn', y_interval=2000., fig_filename=syn_opng)"
   ]
  },
  {
   "cell_type": "code",
   "execution_count": null,
   "metadata": {},
   "outputs": [],
   "source": [
    "plot_section_steps(data=data_obs, y_star = 1500, y_end = 2700,title='data_obs',fig_filename=obs_opng)"
   ]
  },
  {
   "cell_type": "code",
   "execution_count": null,
   "metadata": {},
   "outputs": [],
   "source": [
    "from my_sfs.ze_plot_section import plot_one_signal_comp\n"
   ]
  },
  {
   "cell_type": "code",
   "execution_count": null,
   "metadata": {},
   "outputs": [],
   "source": [
    "plot_one_signal_comp(data_syn=data_syn,data_obs=data_obs,receiver_num=5,\\\n",
    "                 dt_syn=4e-9,dt_obs=5e-8,\\\n",
    "                 t_star_showsyn=6000, t_end_showsyn=10000,\\\n",
    "                 t_star_showobs=1800,t_end_showobs=2120,flag_range=1,flag_same_range=0,\\\n",
    "                 fig_filename='',flag_savepng=0)"
   ]
  },
  {
   "cell_type": "code",
   "execution_count": null,
   "metadata": {},
   "outputs": [],
   "source": [
    "rec_matrix = [0,3,9,12,15]"
   ]
  },
  {
   "cell_type": "code",
   "execution_count": null,
   "metadata": {},
   "outputs": [],
   "source": [
    "## for parallel computing\n",
    "from multiprocessing import Process, current_process"
   ]
  },
  {
   "cell_type": "code",
   "execution_count": null,
   "metadata": {},
   "outputs": [],
   "source": [
    "    dt_syn=6e-9\n",
    "    dt_obs=5e-8\n",
    "    source_num=0\n",
    "    iter_num=0\n",
    "    t_star_showsyn=8000\n",
    "    t_end_showsyn=12000\n",
    "    t_star_showobs=1800\n",
    "    t_end_showobs=2120\n",
    "    flag_range=1\n",
    "    flag_same_range=0\n",
    "    flag_savepng=1"
   ]
  },
  {
   "cell_type": "code",
   "execution_count": null,
   "metadata": {},
   "outputs": [],
   "source": [
    "processes = []\n",
    "\n",
    "for receiver_num in rec_matrix:\n",
    "    per_rec_png = OUTPUT_path + 'rec'+str(receiver_num) + '.png'\n",
    "    fig_filename=per_rec_png\n",
    "    # for the following args will work only when the args are passed in sequence\n",
    "    # as in the defined function, and the args should contain the values of the variables\n",
    "    process = Process(target=plot_one_signal_comp, args=(data_syn,data_obs,dt_syn,dt_obs,\\\n",
    "                                                         source_num,receiver_num,iter_num,\\\n",
    "                                                         t_star_showsyn,t_end_showsyn,t_star_showobs,t_end_showobs,\\\n",
    "                                                         flag_range,flag_same_range, fig_filename,flag_savepng))\n",
    "    processes.append(process)\n",
    "            # Processes are spawned by creating a Process object and \n",
    "    process.start()\n",
    "\n",
    "    for process in processes[1:]:\n",
    "        process.join()\n"
   ]
  },
  {
   "cell_type": "code",
   "execution_count": null,
   "metadata": {},
   "outputs": [],
   "source": []
  },
  {
   "cell_type": "code",
   "execution_count": null,
   "metadata": {},
   "outputs": [],
   "source": [
    "import pickle\n",
    "\n",
    "load_para_pickleopen_fn = 'parameters'\n",
    "\n",
    "with open(load_para_pickleopen_fn,'rb') as handle:\n",
    "    exp_para = pickle.load(handle)\n",
    "\n",
    "print('exp_para.syn_file=',exp_para.sys_file)\n"
   ]
  },
  {
   "cell_type": "code",
   "execution_count": null,
   "metadata": {},
   "outputs": [],
   "source": [
    "from myFormat.ze_plot_summary import textplot,add_slide_ze"
   ]
  },
  {
   "cell_type": "code",
   "execution_count": null,
   "metadata": {},
   "outputs": [],
   "source": [
    "save_parafile_loaddata = 'try1'"
   ]
  },
  {
   "cell_type": "code",
   "execution_count": null,
   "metadata": {},
   "outputs": [],
   "source": [
    "textplot(exp_para,save_parafile_loaddata,flag_close=0)"
   ]
  },
  {
   "cell_type": "code",
   "execution_count": null,
   "metadata": {},
   "outputs": [],
   "source": [
    "exp_para.syn_file"
   ]
  },
  {
   "cell_type": "code",
   "execution_count": null,
   "metadata": {},
   "outputs": [],
   "source": [
    "import glob \n",
    "copyfilelist = glob.glob('obf/output/' + \"*\")"
   ]
  },
  {
   "cell_type": "code",
   "execution_count": null,
   "metadata": {},
   "outputs": [],
   "source": [
    "copyfilelist"
   ]
  },
  {
   "cell_type": "code",
   "execution_count": 2,
   "metadata": {},
   "outputs": [],
   "source": [
    "import my_sysop.sysop \n",
    "\n"
   ]
  },
  {
   "cell_type": "code",
   "execution_count": 5,
   "metadata": {},
   "outputs": [],
   "source": [
    "my_sysop.sysop.copyanything('bk_small','bk_small2')"
   ]
  },
  {
   "cell_type": "code",
   "execution_count": null,
   "metadata": {},
   "outputs": [],
   "source": []
  }
 ],
 "metadata": {
  "kernelspec": {
   "display_name": "Python 2",
   "language": "python",
   "name": "python2"
  },
  "language_info": {
   "codemirror_mode": {
    "name": "ipython",
    "version": 2
   },
   "file_extension": ".py",
   "mimetype": "text/x-python",
   "name": "python",
   "nbconvert_exporter": "python",
   "pygments_lexer": "ipython2",
   "version": "2.7.5"
  }
 },
 "nbformat": 4,
 "nbformat_minor": 2
}
